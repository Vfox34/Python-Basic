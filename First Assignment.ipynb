{
 "cells": [
  {
   "cell_type": "code",
   "execution_count": 1,
   "id": "c91b14be-e11d-4611-abfc-5e38fda938a9",
   "metadata": {},
   "outputs": [],
   "source": [
    "#Q1 Explain Key Features of Python that make it popular choice of programing \n",
    "#Ans. Key Featurs of Python that makes it pupulae choice of programming:-\n",
    "# 1. Easy of learning\n",
    "# 2. A lot of libraries\n",
    "# 3. Huge active community\n",
    "# 4. Python programs run unchanged on most platforms."
   ]
  },
  {
   "cell_type": "code",
   "execution_count": 2,
   "id": "4afbc5c1-c603-482b-9382-6af7da676105",
   "metadata": {},
   "outputs": [],
   "source": [
    "#Q2 Describe the role of predefined Keyword and Provide Example of how the yare used in python \n",
    "#Ans. Here the some example of predefined Keywords:-\n",
    "# Break for not with  is \n",
    "# False await else import pass\n",
    "# None  break  except  in  raise\n",
    "# True  class  finally  is  return\n",
    "# and  continue  for  lambda  try\n",
    "# as  def  from  nonlocal  while\n",
    "# assert  del  global  not  with\n",
    "# async  elif  if  or  yield"
   ]
  },
  {
   "cell_type": "code",
   "execution_count": 3,
   "id": "50401131-66bb-4786-908e-d11a055f81c3",
   "metadata": {},
   "outputs": [
    {
     "data": {
      "text/plain": [
       "[25, 2, 45, 4]"
      ]
     },
     "execution_count": 3,
     "metadata": {},
     "output_type": "execute_result"
    }
   ],
   "source": [
    "#Q3 Compare and contrast of mutable and immutable objects in python with example.\n",
    "#Ans Mutable Obejects/ Container whose state or value can be changed after they are created \n",
    "# Also called as item assignment \n",
    "# Example list, set , Dictionary.\n",
    "li=[1,2,3,4]\n",
    "li[0]=25\n",
    "li[2]=45\n",
    "li"
   ]
  },
  {
   "cell_type": "code",
   "execution_count": 4,
   "id": "fed49d58-0369-4ccf-94b9-808cc7883df5",
   "metadata": {},
   "outputs": [],
   "source": [
    "# Immutable: objects are those objects whosevalue can not be changed\n",
    "# Example: tupple , String "
   ]
  },
  {
   "cell_type": "code",
   "execution_count": 5,
   "id": "ef41e16e-b276-457d-890d-6403cd8a5f9d",
   "metadata": {},
   "outputs": [
    {
     "data": {
      "text/plain": [
       "15"
      ]
     },
     "execution_count": 5,
     "metadata": {},
     "output_type": "execute_result"
    }
   ],
   "source": [
    "#Q4 Discuss the types of different operators in python and provide \n",
    "# examples of how they are used.\n",
    "# Ans. 1.Arithmatic Operators:- \n",
    "# Example:- +, -, , /, %, **.\n",
    "a=6\n",
    "b=9\n",
    "a+b"
   ]
  },
  {
   "cell_type": "code",
   "execution_count": 6,
   "id": "98f3a5e1-2dea-4fc3-b82a-c4c910353813",
   "metadata": {},
   "outputs": [
    {
     "data": {
      "text/plain": [
       "True"
      ]
     },
     "execution_count": 6,
     "metadata": {},
     "output_type": "execute_result"
    }
   ],
   "source": [
    "# 2. Comparison:\n",
    "# Example:<,>,>=,<=,==.!=.\n",
    "a=4\n",
    "b=2\n",
    "a>b"
   ]
  },
  {
   "cell_type": "code",
   "execution_count": 9,
   "id": "8c5111ce-cf5e-42e8-aaa7-4ef40dcb6afd",
   "metadata": {},
   "outputs": [
    {
     "data": {
      "text/plain": [
       "True"
      ]
     },
     "execution_count": 9,
     "metadata": {},
     "output_type": "execute_result"
    }
   ],
   "source": [
    "#3. Logical Operators:-\n",
    "# Example:-\n",
    "# Logical and\n",
    "# Logical or\n",
    "# Logical not\n",
    "a=11\n",
    "b=22\n",
    "(a>9)and(b<23)"
   ]
  },
  {
   "cell_type": "code",
   "execution_count": 10,
   "id": "7e580094-2f70-4410-b9f0-f96b3b20776a",
   "metadata": {},
   "outputs": [
    {
     "data": {
      "text/plain": [
       "True"
      ]
     },
     "execution_count": 10,
     "metadata": {},
     "output_type": "execute_result"
    }
   ],
   "source": [
    "a=50\n",
    "b=60\n",
    "(a>10)and(b>10)"
   ]
  },
  {
   "cell_type": "code",
   "execution_count": 14,
   "id": "7ee1df05-e205-46a4-a2ec-d3143ffca03d",
   "metadata": {},
   "outputs": [
    {
     "data": {
      "text/plain": [
       "4"
      ]
     },
     "execution_count": 14,
     "metadata": {},
     "output_type": "execute_result"
    }
   ],
   "source": [
    "# 4. Bitwise Operators:-\n",
    "#Example:-\n",
    "# Bitwise AND(&)\n",
    "# Bitwise OR(|)\n",
    "# Bitwise XOR(^)\n",
    "# Bitwise left shift(<<)\n",
    "# Bitwise right shift(>>)\n",
    "a=12\n",
    "b=5\n",
    "a&b"
   ]
  },
  {
   "cell_type": "code",
   "execution_count": 16,
   "id": "4ccbfb3d-3da9-4038-9c91-57b6d372533b",
   "metadata": {},
   "outputs": [
    {
     "data": {
      "text/plain": [
       "13"
      ]
     },
     "execution_count": 16,
     "metadata": {},
     "output_type": "execute_result"
    }
   ],
   "source": [
    "a|b"
   ]
  },
  {
   "cell_type": "code",
   "execution_count": 17,
   "id": "7798a75c-c7c4-474a-92c5-4e6fd53ee822",
   "metadata": {},
   "outputs": [
    {
     "data": {
      "text/plain": [
       "9"
      ]
     },
     "execution_count": 17,
     "metadata": {},
     "output_type": "execute_result"
    }
   ],
   "source": [
    "a^b"
   ]
  },
  {
   "cell_type": "code",
   "execution_count": 18,
   "id": "86f08d92-bb8b-4497-913c-5f341fc39715",
   "metadata": {},
   "outputs": [
    {
     "data": {
      "text/plain": [
       "48"
      ]
     },
     "execution_count": 18,
     "metadata": {},
     "output_type": "execute_result"
    }
   ],
   "source": [
    "a<<2"
   ]
  },
  {
   "cell_type": "code",
   "execution_count": 19,
   "id": "cbca9165-67e7-4c52-bdc1-79984c90f32c",
   "metadata": {},
   "outputs": [
    {
     "data": {
      "text/plain": [
       "3"
      ]
     },
     "execution_count": 19,
     "metadata": {},
     "output_type": "execute_result"
    }
   ],
   "source": [
    "a>>2"
   ]
  },
  {
   "cell_type": "code",
   "execution_count": 26,
   "id": "b916a567-7758-485d-9d85-4f9d86df9e85",
   "metadata": {},
   "outputs": [
    {
     "data": {
      "text/plain": [
       "int"
      ]
     },
     "execution_count": 26,
     "metadata": {},
     "output_type": "execute_result"
    }
   ],
   "source": [
    "#Q5 Explain typecasting in python with example.\n",
    "# Ans.The process of changing the data type of a value /object \n",
    "# Type casting is the method to convert the python variable \n",
    "#datatype into a certain data type.\n",
    "st= \"123\"\n",
    "result=int(st)\n",
    "result\n",
    "type(result)\n"
   ]
  },
  {
   "cell_type": "code",
   "execution_count": 31,
   "id": "3051d89f-8393-43fe-b484-27a494e0d3c4",
   "metadata": {},
   "outputs": [
    {
     "data": {
      "text/plain": [
       "float"
      ]
     },
     "execution_count": 31,
     "metadata": {},
     "output_type": "execute_result"
    }
   ],
   "source": [
    "tel= 123\n",
    "result= float(tel)\n",
    "result\n",
    "type(result)"
   ]
  },
  {
   "cell_type": "code",
   "execution_count": 28,
   "id": "d3dcbd45-74f2-4420-bedd-3e22dfafbed1",
   "metadata": {},
   "outputs": [
    {
     "data": {
      "text/plain": [
       "int"
      ]
     },
     "execution_count": 28,
     "metadata": {},
     "output_type": "execute_result"
    }
   ],
   "source": [
    "float= 56.6\n",
    "result= int(float)\n",
    "result\n",
    "type(result)"
   ]
  },
  {
   "cell_type": "code",
   "execution_count": 29,
   "id": "43f47129-0513-4fbb-b2c3-213ea3d91ef1",
   "metadata": {},
   "outputs": [
    {
     "data": {
      "text/plain": [
       "list"
      ]
     },
     "execution_count": 29,
     "metadata": {},
     "output_type": "execute_result"
    }
   ],
   "source": [
    "tuple= (1, 2, 3, 5)\n",
    "result= list(tuple)\n",
    "result\n",
    "type(result)"
   ]
  },
  {
   "cell_type": "code",
   "execution_count": 30,
   "id": "2e684d56-74dc-4986-a0bc-df9c26b316c6",
   "metadata": {},
   "outputs": [
    {
     "data": {
      "text/plain": [
       "tuple"
      ]
     },
     "execution_count": 30,
     "metadata": {},
     "output_type": "execute_result"
    }
   ],
   "source": [
    "list=[1,2,3,4,5]\n",
    "result= tuple(list)\n",
    "result\n",
    "type(result)"
   ]
  },
  {
   "cell_type": "code",
   "execution_count": 34,
   "id": "ca944ef8-41e6-43f8-b2d4-3718c6c84323",
   "metadata": {},
   "outputs": [
    {
     "name": "stdout",
     "output_type": "stream",
     "text": [
      "You are not eligible for vote\n"
     ]
    }
   ],
   "source": [
    "#Q6 How conditional statement work in python? illustrate with example.\n",
    "# Ans. If the condition is true, the if block code is executed and if \n",
    "#  the condition is false, the else block code is executed.\n",
    "# Types of conditional statement:-\n",
    "# 1. if statement\n",
    "# 2. if-else startElement\n",
    "# 3. if-elif else startElement\n",
    "# 4. nested if-else statement\n",
    "#Example of if statement\n",
    "age=15\n",
    "if age>=18:\n",
    " print(\"You are eligible for voting\")\n",
    "#Example of if-else statement\n",
    "age=16\n",
    "if age>=18:\n",
    " print(\"You are eligible for vote\")\n",
    "else:\n",
    " print(\"You are not eligible for vote\")"
   ]
  },
  {
   "cell_type": "code",
   "execution_count": 36,
   "id": "c4601713-c34b-41eb-ae6f-35a4a01839c3",
   "metadata": {},
   "outputs": [
    {
     "name": "stdout",
     "output_type": "stream",
     "text": [
      "Second Division\n"
     ]
    }
   ],
   "source": [
    "#Example of if-elif else statement\n",
    "grade= 6.6\n",
    "if grade>=7.0 and grade<=10.0:\n",
    " print(\"First Division\")\n",
    "elif grade>=5.0 and grade<=7.0:\n",
    " print(\"Second Division\")\n",
    "else:\n",
    " print(\"Third Division\")"
   ]
  },
  {
   "cell_type": "code",
   "execution_count": 39,
   "id": "610f1338-b873-4f11-9b1a-7978bcd7ba75",
   "metadata": {},
   "outputs": [
    {
     "name": "stdout",
     "output_type": "stream",
     "text": [
      "The number is positive.\n"
     ]
    }
   ],
   "source": [
    "#nested if-else statement\n",
    "num = 6\n",
    "if num > 0:\n",
    " print(\"The number is positive.\")\n",
    "else:\n",
    " if num < 0:\n",
    "      print(\"The number is negative.\")\n",
    " else:\n",
    "    print(\"The number is zero.\")"
   ]
  },
  {
   "cell_type": "code",
   "execution_count": 45,
   "id": "84863e2f-5eeb-4a93-aed6-798e00004dfc",
   "metadata": {},
   "outputs": [
    {
     "name": "stdout",
     "output_type": "stream",
     "text": [
      "1\n",
      "2\n",
      "3\n"
     ]
    }
   ],
   "source": [
    "#7Q Loop Statement:- LOOP statements execute a sequence of statements multiple times.\n",
    "# Types of loop statement:-\n",
    "# 1. For loop statement.\n",
    "# 2. While loop statement.\n",
    "item=[1,2,3,4,5]\n",
    "for item in range(1, 4, 1):\n",
    "    print(item)"
   ]
  },
  {
   "cell_type": "code",
   "execution_count": 46,
   "id": "65723578-7904-411d-855b-063f7e94b8ca",
   "metadata": {},
   "outputs": [
    {
     "name": "stdout",
     "output_type": "stream",
     "text": [
      "1\n",
      "2\n",
      "3\n"
     ]
    }
   ],
   "source": [
    "i=1\n",
    "while i<4:\n",
    "    print(i)\n",
    "    i+=1"
   ]
  },
  {
   "cell_type": "code",
   "execution_count": 48,
   "id": "56f6df8c-6ef5-4615-aa73-b669c61841ce",
   "metadata": {},
   "outputs": [
    {
     "name": "stdout",
     "output_type": "stream",
     "text": [
      "1\n"
     ]
    }
   ],
   "source": [
    "#Break and Continue Statement:- Break statement stops the entire \n",
    "#process of the loop and Continue statement only stops the current iteration of the loop.\n",
    "# Example of break statement:-\n",
    "item=[1,2,3,4,5,6,7,8,9]\n",
    "for item in range(1,10,1):\n",
    " if item%2==0:\n",
    "    break\n",
    " print(item)"
   ]
  },
  {
   "cell_type": "code",
   "execution_count": 49,
   "id": "3ddb24cc-a150-430d-9058-581d91180850",
   "metadata": {},
   "outputs": [
    {
     "name": "stdout",
     "output_type": "stream",
     "text": [
      "1\n",
      "3\n",
      "5\n",
      "7\n",
      "9\n"
     ]
    }
   ],
   "source": [
    "# Example of continue statement:-\n",
    "item=[1,2,3,4,5,6,7,8,9]\n",
    "for item in range(1,10,1):\n",
    " if item%2==0:\n",
    "    continue\n",
    " print(item)"
   ]
  },
  {
   "cell_type": "code",
   "execution_count": null,
   "id": "3f2b4adf-a7a5-4ac3-9dcf-77a78552b028",
   "metadata": {},
   "outputs": [],
   "source": []
  }
 ],
 "metadata": {
  "kernelspec": {
   "display_name": "Python 3 (ipykernel)",
   "language": "python",
   "name": "python3"
  },
  "language_info": {
   "codemirror_mode": {
    "name": "ipython",
    "version": 3
   },
   "file_extension": ".py",
   "mimetype": "text/x-python",
   "name": "python",
   "nbconvert_exporter": "python",
   "pygments_lexer": "ipython3",
   "version": "3.12.4"
  }
 },
 "nbformat": 4,
 "nbformat_minor": 5
}
